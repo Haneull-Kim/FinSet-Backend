{
 "cells": [
  {
   "cell_type": "code",
   "execution_count": 1,
   "metadata": {
    "colab": {
     "base_uri": "https://localhost:8080/"
    },
    "id": "ezehldTt2cHr",
    "outputId": "69938c5d-3f2b-4331-eac1-d036caf72b61",
    "scrolled": true
   },
   "outputs": [
    {
     "name": "stdout",
     "output_type": "stream",
     "text": [
      "Requirement already satisfied: openai in /Users/kimhaneul/miniforge3/envs/sky2/lib/python3.9/site-packages (1.45.0)\n",
      "Requirement already satisfied: anyio<5,>=3.5.0 in /Users/kimhaneul/miniforge3/envs/sky2/lib/python3.9/site-packages (from openai) (3.5.0)\n",
      "Requirement already satisfied: distro<2,>=1.7.0 in /Users/kimhaneul/miniforge3/envs/sky2/lib/python3.9/site-packages (from openai) (1.9.0)\n",
      "Requirement already satisfied: httpx<1,>=0.23.0 in /Users/kimhaneul/miniforge3/envs/sky2/lib/python3.9/site-packages (from openai) (0.27.2)\n",
      "Requirement already satisfied: jiter<1,>=0.4.0 in /Users/kimhaneul/miniforge3/envs/sky2/lib/python3.9/site-packages (from openai) (0.5.0)\n",
      "Requirement already satisfied: pydantic<3,>=1.9.0 in /Users/kimhaneul/miniforge3/envs/sky2/lib/python3.9/site-packages (from openai) (2.9.1)\n",
      "Requirement already satisfied: sniffio in /Users/kimhaneul/miniforge3/envs/sky2/lib/python3.9/site-packages (from openai) (1.2.0)\n",
      "Requirement already satisfied: tqdm>4 in /Users/kimhaneul/miniforge3/envs/sky2/lib/python3.9/site-packages (from openai) (4.66.1)\n",
      "Requirement already satisfied: typing-extensions<5,>=4.11 in /Users/kimhaneul/miniforge3/envs/sky2/lib/python3.9/site-packages (from openai) (4.12.2)\n",
      "Requirement already satisfied: idna>=2.8 in /Users/kimhaneul/miniforge3/envs/sky2/lib/python3.9/site-packages (from anyio<5,>=3.5.0->openai) (3.4)\n",
      "Requirement already satisfied: certifi in /Users/kimhaneul/miniforge3/envs/sky2/lib/python3.9/site-packages (from httpx<1,>=0.23.0->openai) (2023.7.22)\n",
      "Requirement already satisfied: httpcore==1.* in /Users/kimhaneul/miniforge3/envs/sky2/lib/python3.9/site-packages (from httpx<1,>=0.23.0->openai) (1.0.5)\n",
      "Requirement already satisfied: h11<0.15,>=0.13 in /Users/kimhaneul/miniforge3/envs/sky2/lib/python3.9/site-packages (from httpcore==1.*->httpx<1,>=0.23.0->openai) (0.14.0)\n",
      "Requirement already satisfied: annotated-types>=0.6.0 in /Users/kimhaneul/miniforge3/envs/sky2/lib/python3.9/site-packages (from pydantic<3,>=1.9.0->openai) (0.7.0)\n",
      "Requirement already satisfied: pydantic-core==2.23.3 in /Users/kimhaneul/miniforge3/envs/sky2/lib/python3.9/site-packages (from pydantic<3,>=1.9.0->openai) (2.23.3)\n",
      "\n",
      "\u001b[1m[\u001b[0m\u001b[34;49mnotice\u001b[0m\u001b[1;39;49m]\u001b[0m\u001b[39;49m A new release of pip is available: \u001b[0m\u001b[31;49m23.3.1\u001b[0m\u001b[39;49m -> \u001b[0m\u001b[32;49m24.2\u001b[0m\n",
      "\u001b[1m[\u001b[0m\u001b[34;49mnotice\u001b[0m\u001b[1;39;49m]\u001b[0m\u001b[39;49m To update, run: \u001b[0m\u001b[32;49mpip install --upgrade pip\u001b[0m\n"
     ]
    }
   ],
   "source": [
    "!pip install openai"
   ]
  },
  {
   "cell_type": "code",
   "execution_count": null,
   "metadata": {},
   "outputs": [],
   "source": [
    "# !pip install mysql-connector-python"
   ]
  },
  {
   "cell_type": "markdown",
   "metadata": {},
   "source": [
    "# 최종"
   ]
  },
  {
   "cell_type": "code",
   "execution_count": 5,
   "metadata": {},
   "outputs": [],
   "source": [
    "import openai\n",
    "import mysql.connector\n",
    "import json\n",
    "\n",
    "# OpenAI API 키 설정\n",
    "\n",
    "\n",
    "# MySQL 데이터베이스에 연결\n",
    "def get_connection():\n",
    "    return mysql.connector.connect(\n",
    "        host='localhost',\n",
    "        user='user',\n",
    "        password='1234',\n",
    "        database='finset'\n",
    "    )\n",
    "\n",
    "# 사용자의 쿼리로부터 카테고리를 추출\n",
    "def extract_categories(query):\n",
    "    response = openai.chat.completions.create(\n",
    "        model=\"gpt-4-0613\",\n",
    "        messages=[\n",
    "            {\"role\": \"system\", \"content\": \"사용자의 질문에서 금융상품 카테고리와 그에 해당하는 세부 조건(금액, 기간, 이자 방식 등)을 추출하는 시스템입니다. 카테고리는 예금, 적금, 주식, 펀드, 외환입니다.\"},\n",
    "            {\"role\": \"user\", \"content\": query}\n",
    "        ],\n",
    "        functions=[\n",
    "            {\n",
    "                \"name\": \"extract_categories_function\",\n",
    "                \"description\": \"사용자의 질문에서 금융 카테고리와 조건을 추출\",\n",
    "                \"parameters\": {\n",
    "                    \"type\": \"object\",\n",
    "                    \"properties\": {\n",
    "                         \"category\": {\n",
    "                            \"type\": \"string\",\n",
    "                            \"description\": \"추출된 금융 카테고리\"\n",
    "                        },\n",
    "                        \"conditions\": {\n",
    "                            \"type\": \"array\",\n",
    "                            \"items\": {\"type\": \"string\"},\n",
    "                            \"description\": \"추출된 세부 조건들(금액, 기간, 이자 방식 등)\"\n",
    "                        }\n",
    "                    },\n",
    "                    \"required\": [\"category\", \"conditions\"]\n",
    "                }\n",
    "            }\n",
    "        ],\n",
    "        function_call={\"name\": \"extract_categories_function\"}\n",
    "    )\n",
    "    \n",
    "    categories_conditions = response.choices[0].message.function_call.arguments\n",
    "    return json.loads(categories_conditions)\n",
    "\n",
    "# 카테고리와 조건에 맞는 데이터를 데이터베이스에서 추출\n",
    "def fetch_data_by_category_and_conditions(category, conditions):\n",
    "    connection = get_connection()\n",
    "    cursor = connection.cursor(dictionary=True)\n",
    "    \n",
    "    # 카테고리별 테이블과 해당 컬럼 결정\n",
    "    table = \"\"\n",
    "    price_column = \"\"\n",
    "    interest_column = \"\"\n",
    "    \n",
    "    if category.lower() == '주식':\n",
    "        table = 'tbl_stock'\n",
    "        price_column = 'stock_price'\n",
    "    elif category.lower() == '펀드':\n",
    "        table = 'tbl_fund'\n",
    "        price_column = 'fund_standard'\n",
    "    elif category.lower() == '예금':\n",
    "        table = 'tbl_deposit'\n",
    "        interest_column = 'deposit_category'\n",
    "    elif category.lower() == '적금':\n",
    "        table = 'tbl_installment'\n",
    "        interest_column = 'installment_category'\n",
    "    elif category.lower() == '외환':\n",
    "        table = 'tbl_exchange'\n",
    "        price_column = 'exchange_buy'\n",
    "\n",
    "    # 조건 기반으로 쿼리 생성\n",
    "    where_clauses = []\n",
    "    params = []\n",
    "    \n",
    "    for condition in conditions:\n",
    "        if \"원\" in condition:  # 금액 조건일 때\n",
    "            amount = int(condition.replace(\"원\", \"\").replace(\",\", \"\").strip())\n",
    "            if price_column:\n",
    "                where_clauses.append(f\"{price_column} <= %s\")\n",
    "                params.append(amount)\n",
    "        elif \"단리\" in condition or \"복리\" in condition:  # 이자 방식일 때\n",
    "            if interest_column:\n",
    "                where_clauses.append(f\"{interest_column} LIKE %s\")\n",
    "                params.append(f\"%{condition}%\")\n",
    "#         elif \"개월\" in condition or \"년\" in condition:  # 기간 조건일 때\n",
    "#             period = int(''.join(filter(str.isdigit, condition)))\n",
    "#             where_clauses.append(\"duration <= %s\")\n",
    "#             params.append(period)\n",
    "\n",
    "    # 조건이 있을 경우 WHERE 절 추가\n",
    "    query = f\"SELECT * FROM {table}\"\n",
    "    if where_clauses:\n",
    "        query += \" WHERE \" + \" AND \".join(where_clauses)\n",
    "    \n",
    "    cursor.execute(query, tuple(params))\n",
    "    results = cursor.fetchall()\n",
    "    connection.close()\n",
    "    return results"
   ]
  },
  {
   "cell_type": "markdown",
   "metadata": {},
   "source": [
    "## 예시 1 (주식)"
   ]
  },
  {
   "cell_type": "code",
   "execution_count": 3,
   "metadata": {},
   "outputs": [
    {
     "name": "stdout",
     "output_type": "stream",
     "text": [
      "[{'sno': 1, 'stock_symbol': '005930', 'stock_name': '삼성전자', 'stock_price': '65200', 'price_change_rate': '-1.66', 'stock_volume': '8175458'}, {'sno': 6, 'stock_symbol': '005935', 'stock_name': '삼성전자우', 'stock_price': '53000', 'price_change_rate': '-0.75', 'stock_volume': '622801'}, {'sno': 9, 'stock_symbol': '105560', 'stock_name': 'KB금융', 'stock_price': '80700', 'price_change_rate': '3.33', 'stock_volume': '587431'}, {'sno': 11, 'stock_symbol': '055550', 'stock_name': '신한지주', 'stock_price': '55400', 'price_change_rate': '2.78', 'stock_volume': '330104'}, {'sno': 17, 'stock_symbol': '032830', 'stock_name': '삼성생명', 'stock_price': '96400', 'price_change_rate': '0.21', 'stock_volume': '49934'}, {'sno': 19, 'stock_symbol': '138040', 'stock_name': '메리츠금융지주', 'stock_price': '92400', 'price_change_rate': '2.33', 'stock_volume': '70403'}, {'sno': 20, 'stock_symbol': '086790', 'stock_name': '하나금융지주', 'stock_price': '60800', 'price_change_rate': '4.29', 'stock_volume': '384681'}, {'sno': 25, 'stock_symbol': '035720', 'stock_name': '카카오', 'stock_price': '35800', 'price_change_rate': '1.27', 'stock_volume': '281308'}, {'sno': 30, 'stock_symbol': '015760', 'stock_name': '한국전력', 'stock_price': '22050', 'price_change_rate': '0.46', 'stock_volume': '352370'}]\n"
     ]
    }
   ],
   "source": [
    "# 사용자 쿼리 예시\n",
    "query = \"100000원에 맞는 주식을 추천해줘\"\n",
    "\n",
    "# 카테고리와 세부 조건을 추출\n",
    "extracted_data = extract_categories(query)\n",
    "category = extracted_data['category']\n",
    "conditions = extracted_data['conditions']\n",
    "\n",
    "# 카테고리와 조건에 맞는 데이터 추출\n",
    "relevant_data = fetch_data_by_category_and_conditions(category, conditions)\n",
    "print(relevant_data)"
   ]
  },
  {
   "cell_type": "code",
   "execution_count": 4,
   "metadata": {},
   "outputs": [
    {
     "name": "stdout",
     "output_type": "stream",
     "text": [
      "주식\n",
      "['100000원']\n"
     ]
    }
   ],
   "source": [
    "print(category)\n",
    "print(conditions)"
   ]
  },
  {
   "cell_type": "code",
   "execution_count": 5,
   "metadata": {},
   "outputs": [
    {
     "name": "stdout",
     "output_type": "stream",
     "text": [
      "   sno stock_symbol stock_name stock_price price_change_rate stock_volume\n",
      "0    1       005930       삼성전자       65200             -1.66      8175458\n",
      "1    6       005935      삼성전자우       53000             -0.75       622801\n",
      "2    9       105560       KB금융       80700              3.33       587431\n",
      "3   11       055550       신한지주       55400              2.78       330104\n",
      "4   17       032830       삼성생명       96400              0.21        49934\n",
      "5   19       138040    메리츠금융지주       92400              2.33        70403\n",
      "6   20       086790     하나금융지주       60800              4.29       384681\n",
      "7   25       035720        카카오       35800              1.27       281308\n",
      "8   30       015760       한국전력       22050              0.46       352370\n"
     ]
    }
   ],
   "source": [
    "import pandas as pd\n",
    "\n",
    "\n",
    "# relevant_data를 DataFrame으로 변환\n",
    "df_relevant_data = pd.DataFrame(relevant_data)\n",
    "\n",
    "# DataFrame 출력\n",
    "print(df_relevant_data)"
   ]
  },
  {
   "cell_type": "markdown",
   "metadata": {},
   "source": [
    "## 예시 2 (예금)"
   ]
  },
  {
   "cell_type": "code",
   "execution_count": 39,
   "metadata": {},
   "outputs": [
    {
     "name": "stdout",
     "output_type": "stream",
     "text": [
      "[{'dno': 1, 'deposit_category': '복리/단리', 'depoist_name': 'e-그린세이브예금', 'deposit_bank': '우한국스탠다드차타드은행', 'deposit_max_rate': '3.37', 'deposit_normal_rate': '3.37', 'deposit_join': '1', 'deposit_stream': '3', 'deposit_amount': '1000000000', 'deposit_way': '인터넷,스마트폰', 'deposit_target': '개인(개인사업자 포함)', 'deposit_link': '직접입력'}, {'dno': 2, 'deposit_category': '단리', 'depoist_name': '스마트정기예금', 'deposit_bank': '신한은행', 'deposit_max_rate': '2.95', 'deposit_normal_rate': '2.95', 'deposit_join': '2', 'deposit_stream': '4', 'deposit_amount': '500000000', 'deposit_way': '인터넷', 'deposit_target': '개인', 'deposit_link': '자동입력'}, {'dno': 4, 'deposit_category': '단리', 'depoist_name': '특별정기예금', 'deposit_bank': '우리은행', 'deposit_max_rate': '2.80', 'deposit_normal_rate': '2.80', 'deposit_join': '3', 'deposit_stream': '5', 'deposit_amount': '1500000000', 'deposit_way': '인터넷', 'deposit_target': '개인', 'deposit_link': '자동입력'}, {'dno': 5, 'deposit_category': '복리/단리', 'depoist_name': '온라인정기예금', 'deposit_bank': '하나은행', 'deposit_max_rate': '3.25', 'deposit_normal_rate': '3.25', 'deposit_join': '2', 'deposit_stream': '4', 'deposit_amount': '300000000', 'deposit_way': '스마트폰', 'deposit_target': '개인', 'deposit_link': '직접입력'}, {'dno': 7, 'deposit_category': '단리', 'depoist_name': '정기예금', 'deposit_bank': '기업은행', 'deposit_max_rate': '2.70', 'deposit_normal_rate': '2.70', 'deposit_join': '3', 'deposit_stream': '6', 'deposit_amount': '100000000', 'deposit_way': '인터넷', 'deposit_target': '개인', 'deposit_link': '직접입력'}, {'dno': 9, 'deposit_category': '단리', 'depoist_name': '정기적금', 'deposit_bank': '대구은행', 'deposit_max_rate': '2.85', 'deposit_normal_rate': '2.85', 'deposit_join': '3', 'deposit_stream': '5', 'deposit_amount': '500000000', 'deposit_way': '인터넷', 'deposit_target': '개인', 'deposit_link': '직접입력'}, {'dno': 10, 'deposit_category': '복리/단리', 'depoist_name': 'e-정기예금', 'deposit_bank': '광주은행', 'deposit_max_rate': '3.20', 'deposit_normal_rate': '3.20', 'deposit_join': '1', 'deposit_stream': '6', 'deposit_amount': '700000000', 'deposit_way': '스마트폰', 'deposit_target': '개인(개인사업자 포함)', 'deposit_link': '자동입력'}, {'dno': 11, 'deposit_category': '단리', 'depoist_name': '하이정기예금', 'deposit_bank': '전북은행', 'deposit_max_rate': '2.75', 'deposit_normal_rate': '2.75', 'deposit_join': '2', 'deposit_stream': '4', 'deposit_amount': '400000000', 'deposit_way': '인터넷', 'deposit_target': '개인', 'deposit_link': '직접입력'}, {'dno': 13, 'deposit_category': '단리', 'depoist_name': '스마트정기예금', 'deposit_bank': '강원은행', 'deposit_max_rate': '2.90', 'deposit_normal_rate': '2.90', 'deposit_join': '2', 'deposit_stream': '6', 'deposit_amount': '300000000', 'deposit_way': '인터넷', 'deposit_target': '개인', 'deposit_link': '직접입력'}, {'dno': 15, 'deposit_category': '단리', 'depoist_name': '단기정기예금', 'deposit_bank': 'BNK부산은행', 'deposit_max_rate': '2.65', 'deposit_normal_rate': '2.65', 'deposit_join': '3', 'deposit_stream': '5', 'deposit_amount': '200000000', 'deposit_way': '인터넷', 'deposit_target': '개인', 'deposit_link': '직접입력'}, {'dno': 16, 'deposit_category': '복리/단리', 'depoist_name': 'e-뱅킹예금', 'deposit_bank': '하나금융그룹', 'deposit_max_rate': '3.35', 'deposit_normal_rate': '3.35', 'deposit_join': '2', 'deposit_stream': '6', 'deposit_amount': '500000000', 'deposit_way': '스마트폰', 'deposit_target': '개인(개인사업자 포함)', 'deposit_link': '자동입력'}, {'dno': 17, 'deposit_category': '단리', 'depoist_name': '정기예금', 'deposit_bank': '경남은행', 'deposit_max_rate': '2.80', 'deposit_normal_rate': '2.80', 'deposit_join': '1', 'deposit_stream': '5', 'deposit_amount': '100000000', 'deposit_way': '인터넷', 'deposit_target': '개인', 'deposit_link': '직접입력'}, {'dno': 19, 'deposit_category': '단리', 'depoist_name': '우대정기예금', 'deposit_bank': '새마을금고', 'deposit_max_rate': '2.75', 'deposit_normal_rate': '2.75', 'deposit_join': '3', 'deposit_stream': '4', 'deposit_amount': '250000000', 'deposit_way': '인터넷', 'deposit_target': '개인', 'deposit_link': '직접입력'}, {'dno': 20, 'deposit_category': '복리/단리', 'depoist_name': 'e-정기적금', 'deposit_bank': '신협', 'deposit_max_rate': '3.45', 'deposit_normal_rate': '3.45', 'deposit_join': '2', 'deposit_stream': '6', 'deposit_amount': '600000000', 'deposit_way': '스마트폰', 'deposit_target': '개인(개인사업자 포함)', 'deposit_link': '자동입력'}, {'dno': 21, 'deposit_category': '단리', 'depoist_name': '정기예금', 'deposit_bank': '주택금융공사', 'deposit_max_rate': '2.90', 'deposit_normal_rate': '2.90', 'deposit_join': '3', 'deposit_stream': '5', 'deposit_amount': '350000000', 'deposit_way': '인터넷', 'deposit_target': '개인', 'deposit_link': '직접입력'}, {'dno': 23, 'deposit_category': '단리', 'depoist_name': '정기적금', 'deposit_bank': '우리은행', 'deposit_max_rate': '2.85', 'deposit_normal_rate': '2.85', 'deposit_join': '2', 'deposit_stream': '6', 'deposit_amount': '500000000', 'deposit_way': '인터넷', 'deposit_target': '개인', 'deposit_link': '직접입력'}, {'dno': 24, 'deposit_category': '복리/단리', 'depoist_name': '인터넷정기예금', 'deposit_bank': '하나은행', 'deposit_max_rate': '3.30', 'deposit_normal_rate': '3.30', 'deposit_join': '1', 'deposit_stream': '5', 'deposit_amount': '300000000', 'deposit_way': '스마트폰', 'deposit_target': '개인(개인사업자 포함)', 'deposit_link': '자동입력'}, {'dno': 25, 'deposit_category': '단리', 'depoist_name': '정기예금', 'deposit_bank': '농협은행', 'deposit_max_rate': '2.70', 'deposit_normal_rate': '2.70', 'deposit_join': '3', 'deposit_stream': '6', 'deposit_amount': '700000000', 'deposit_way': '인터넷', 'deposit_target': '개인', 'deposit_link': '직접입력'}, {'dno': 27, 'deposit_category': '단리', 'depoist_name': '정기적금', 'deposit_bank': 'SC제일은행', 'deposit_max_rate': '2.75', 'deposit_normal_rate': '2.75', 'deposit_join': '3', 'deposit_stream': '5', 'deposit_amount': '600000000', 'deposit_way': '인터넷', 'deposit_target': '개인', 'deposit_link': '직접입력'}, {'dno': 28, 'deposit_category': '복리/단리', 'depoist_name': 'e-프리미엄예금', 'deposit_bank': '대구은행', 'deposit_max_rate': '3.20', 'deposit_normal_rate': '3.20', 'deposit_join': '2', 'deposit_stream': '4', 'deposit_amount': '300000000', 'deposit_way': '스마트폰', 'deposit_target': '개인(개인사업자 포함)', 'deposit_link': '자동입력'}, {'dno': 29, 'deposit_category': '단리', 'depoist_name': '정기예금', 'deposit_bank': '광주은행', 'deposit_max_rate': '2.85', 'deposit_normal_rate': '2.85', 'deposit_join': '1', 'deposit_stream': '6', 'deposit_amount': '500000000', 'deposit_way': '인터넷', 'deposit_target': '개인', 'deposit_link': '직접입력'}]\n"
     ]
    }
   ],
   "source": [
    "# 사용자 쿼리 예시\n",
    "query = \"단리 예금 상품 추천해줘\"\n",
    "\n",
    "# 카테고리와 세부 조건을 추출\n",
    "extracted_data = extract_categories(query)\n",
    "category = extracted_data['category']\n",
    "conditions = extracted_data['conditions']\n",
    "\n",
    "# 카테고리와 조건에 맞는 데이터 추출\n",
    "relevant_data = fetch_data_by_category_and_conditions(category, conditions)\n",
    "print(relevant_data)"
   ]
  },
  {
   "cell_type": "code",
   "execution_count": 38,
   "metadata": {},
   "outputs": [
    {
     "name": "stdout",
     "output_type": "stream",
     "text": [
      "예금\n",
      "['단리']\n"
     ]
    }
   ],
   "source": [
    "print(category)\n",
    "print(conditions)"
   ]
  },
  {
   "cell_type": "code",
   "execution_count": 40,
   "metadata": {
    "id": "5B6ISxCR2hlO",
    "scrolled": false
   },
   "outputs": [
    {
     "name": "stdout",
     "output_type": "stream",
     "text": [
      "    dno deposit_category depoist_name  deposit_bank deposit_max_rate  \\\n",
      "0     1            복리/단리    e-그린세이브예금  우한국스탠다드차타드은행             3.37   \n",
      "1     2               단리      스마트정기예금          신한은행             2.95   \n",
      "2     4               단리       특별정기예금          우리은행             2.80   \n",
      "3     5            복리/단리      온라인정기예금          하나은행             3.25   \n",
      "4     7               단리         정기예금          기업은행             2.70   \n",
      "5     9               단리         정기적금          대구은행             2.85   \n",
      "6    10            복리/단리       e-정기예금          광주은행             3.20   \n",
      "7    11               단리       하이정기예금          전북은행             2.75   \n",
      "8    13               단리      스마트정기예금          강원은행             2.90   \n",
      "9    15               단리       단기정기예금       BNK부산은행             2.65   \n",
      "10   16            복리/단리       e-뱅킹예금        하나금융그룹             3.35   \n",
      "11   17               단리         정기예금          경남은행             2.80   \n",
      "12   19               단리       우대정기예금         새마을금고             2.75   \n",
      "13   20            복리/단리       e-정기적금            신협             3.45   \n",
      "14   21               단리         정기예금        주택금융공사             2.90   \n",
      "15   23               단리         정기적금          우리은행             2.85   \n",
      "16   24            복리/단리      인터넷정기예금          하나은행             3.30   \n",
      "17   25               단리         정기예금          농협은행             2.70   \n",
      "18   27               단리         정기적금        SC제일은행             2.75   \n",
      "19   28            복리/단리     e-프리미엄예금          대구은행             3.20   \n",
      "20   29               단리         정기예금          광주은행             2.85   \n",
      "\n",
      "   deposit_normal_rate deposit_join deposit_stream deposit_amount deposit_way  \\\n",
      "0                 3.37            1              3     1000000000    인터넷,스마트폰   \n",
      "1                 2.95            2              4      500000000         인터넷   \n",
      "2                 2.80            3              5     1500000000         인터넷   \n",
      "3                 3.25            2              4      300000000        스마트폰   \n",
      "4                 2.70            3              6      100000000         인터넷   \n",
      "5                 2.85            3              5      500000000         인터넷   \n",
      "6                 3.20            1              6      700000000        스마트폰   \n",
      "7                 2.75            2              4      400000000         인터넷   \n",
      "8                 2.90            2              6      300000000         인터넷   \n",
      "9                 2.65            3              5      200000000         인터넷   \n",
      "10                3.35            2              6      500000000        스마트폰   \n",
      "11                2.80            1              5      100000000         인터넷   \n",
      "12                2.75            3              4      250000000         인터넷   \n",
      "13                3.45            2              6      600000000        스마트폰   \n",
      "14                2.90            3              5      350000000         인터넷   \n",
      "15                2.85            2              6      500000000         인터넷   \n",
      "16                3.30            1              5      300000000        스마트폰   \n",
      "17                2.70            3              6      700000000         인터넷   \n",
      "18                2.75            3              5      600000000         인터넷   \n",
      "19                3.20            2              4      300000000        스마트폰   \n",
      "20                2.85            1              6      500000000         인터넷   \n",
      "\n",
      "   deposit_target deposit_link  \n",
      "0    개인(개인사업자 포함)         직접입력  \n",
      "1              개인         자동입력  \n",
      "2              개인         자동입력  \n",
      "3              개인         직접입력  \n",
      "4              개인         직접입력  \n",
      "5              개인         직접입력  \n",
      "6    개인(개인사업자 포함)         자동입력  \n",
      "7              개인         직접입력  \n",
      "8              개인         직접입력  \n",
      "9              개인         직접입력  \n",
      "10   개인(개인사업자 포함)         자동입력  \n",
      "11             개인         직접입력  \n",
      "12             개인         직접입력  \n",
      "13   개인(개인사업자 포함)         자동입력  \n",
      "14             개인         직접입력  \n",
      "15             개인         직접입력  \n",
      "16   개인(개인사업자 포함)         자동입력  \n",
      "17             개인         직접입력  \n",
      "18             개인         직접입력  \n",
      "19   개인(개인사업자 포함)         자동입력  \n",
      "20             개인         직접입력  \n"
     ]
    }
   ],
   "source": [
    "import pandas as pd\n",
    "\n",
    "\n",
    "# relevant_data를 DataFrame으로 변환\n",
    "df_relevant_data = pd.DataFrame(relevant_data)\n",
    "\n",
    "# DataFrame 출력\n",
    "print(df_relevant_data)"
   ]
  },
  {
   "cell_type": "markdown",
   "metadata": {},
   "source": [
    "## 예시 3 (적금)"
   ]
  },
  {
   "cell_type": "code",
   "execution_count": 43,
   "metadata": {},
   "outputs": [
    {
     "name": "stdout",
     "output_type": "stream",
     "text": [
      "[{'ino': 1, 'installment_category': '복리/단리', 'installment_name': '퍼스트가계적금', 'installment_bank': '한국스탠다드차타드은행', 'installment_max_rate': '4.75', 'installment_normal_rate': '2.85', 'installment_join': '1', 'installment_stream': '36', 'installment_amount': '10000000', 'installment_way': '영업점,인터넷,스마트폰', 'installment_target': '개인(개인사업자 포함)'}, {'ino': 2, 'installment_category': '복리', 'installment_name': '행복적금', 'installment_bank': '신한은행', 'installment_max_rate': '4.50', 'installment_normal_rate': '2.70', 'installment_join': '1', 'installment_stream': '24', 'installment_amount': '5000000', 'installment_way': '영업점,인터넷', 'installment_target': '개인'}, {'ino': 4, 'installment_category': '복리', 'installment_name': '꿈나무적금', 'installment_bank': '기업은행', 'installment_max_rate': '4.20', 'installment_normal_rate': '3.00', 'installment_join': '1', 'installment_stream': '36', 'installment_amount': '20000000', 'installment_way': '인터넷,스마트폰', 'installment_target': '개인(개인사업자 포함)'}, {'ino': 6, 'installment_category': '복리', 'installment_name': '미래적금', 'installment_bank': '농협은행', 'installment_max_rate': '4.00', 'installment_normal_rate': '2.90', 'installment_join': '1', 'installment_stream': '12', 'installment_amount': '15000000', 'installment_way': '인터넷', 'installment_target': '개인'}, {'ino': 8, 'installment_category': '복리', 'installment_name': '행복한적금', 'installment_bank': '전북은행', 'installment_max_rate': '4.10', 'installment_normal_rate': '2.85', 'installment_join': '1', 'installment_stream': '24', 'installment_amount': '5000000', 'installment_way': '영업점,인터넷', 'installment_target': '개인'}, {'ino': 10, 'installment_category': '복리', 'installment_name': '정성적금', 'installment_bank': '제주은행', 'installment_max_rate': '4.30', 'installment_normal_rate': '2.95', 'installment_join': '1', 'installment_stream': '36', 'installment_amount': '20000000', 'installment_way': '영업점', 'installment_target': '개인'}, {'ino': 12, 'installment_category': '복리', 'installment_name': '튼튼적금', 'installment_bank': '상호저축은행', 'installment_max_rate': '4.40', 'installment_normal_rate': '3.05', 'installment_join': '1', 'installment_stream': '12', 'installment_amount': '5000000', 'installment_way': '영업점,인터넷', 'installment_target': '개인'}, {'ino': 14, 'installment_category': '복리', 'installment_name': '열정적금', 'installment_bank': '신협', 'installment_max_rate': '4.25', 'installment_normal_rate': '2.90', 'installment_join': '1', 'installment_stream': '24', 'installment_amount': '10000000', 'installment_way': '영업점', 'installment_target': '개인'}, {'ino': 16, 'installment_category': '복리', 'installment_name': '희망적금', 'installment_bank': '대구은행', 'installment_max_rate': '4.50', 'installment_normal_rate': '3.00', 'installment_join': '1', 'installment_stream': '36', 'installment_amount': '50000000', 'installment_way': '인터넷,스마트폰', 'installment_target': '개인'}, {'ino': 18, 'installment_category': '복리', 'installment_name': '스마일적금', 'installment_bank': '서민금융', 'installment_max_rate': '4.35', 'installment_normal_rate': '2.85', 'installment_join': '1', 'installment_stream': '12', 'installment_amount': '30000000', 'installment_way': '인터넷', 'installment_target': '개인'}, {'ino': 20, 'installment_category': '복리', 'installment_name': '열정가득적금', 'installment_bank': '상호저축은행', 'installment_max_rate': '4.55', 'installment_normal_rate': '3.10', 'installment_join': '1', 'installment_stream': '24', 'installment_amount': '5000000', 'installment_way': '영업점,인터넷', 'installment_target': '개인'}, {'ino': 22, 'installment_category': '복리', 'installment_name': '퍼스트적금', 'installment_bank': '농협은행', 'installment_max_rate': '4.45', 'installment_normal_rate': '2.90', 'installment_join': '1', 'installment_stream': '36', 'installment_amount': '15000000', 'installment_way': '스마트폰', 'installment_target': '개인'}, {'ino': 24, 'installment_category': '복리', 'installment_name': '미래가득적금', 'installment_bank': '경남은행', 'installment_max_rate': '4.50', 'installment_normal_rate': '2.95', 'installment_join': '1', 'installment_stream': '12', 'installment_amount': '10000000', 'installment_way': '인터넷', 'installment_target': '개인'}, {'ino': 26, 'installment_category': '복리', 'installment_name': '희망찬적금', 'installment_bank': '전북은행', 'installment_max_rate': '4.20', 'installment_normal_rate': '3.00', 'installment_join': '1', 'installment_stream': '24', 'installment_amount': '30000000', 'installment_way': '영업점', 'installment_target': '개인'}, {'ino': 28, 'installment_category': '복리', 'installment_name': '꿈을위한적금', 'installment_bank': '신협', 'installment_max_rate': '4.60', 'installment_normal_rate': '3.10', 'installment_join': '1', 'installment_stream': '36', 'installment_amount': '10000000', 'installment_way': '인터넷', 'installment_target': '개인'}, {'ino': 30, 'installment_category': '복리', 'installment_name': '정성가득적금', 'installment_bank': '농협은행', 'installment_max_rate': '4.35', 'installment_normal_rate': '2.90', 'installment_join': '1', 'installment_stream': '12', 'installment_amount': '5000000', 'installment_way': '인터넷', 'installment_target': '개인'}]\n"
     ]
    }
   ],
   "source": [
    "# 사용자 쿼리 예시\n",
    "query = \"복리 적금 상품은 뭐가있어?\"\n",
    "\n",
    "# 카테고리와 세부 조건을 추출\n",
    "extracted_data = extract_categories(query)\n",
    "category = extracted_data['category']\n",
    "conditions = extracted_data['conditions']\n",
    "\n",
    "# 카테고리와 조건에 맞는 데이터 추출\n",
    "relevant_data = fetch_data_by_category_and_conditions(category, conditions)\n",
    "print(relevant_data)"
   ]
  },
  {
   "cell_type": "code",
   "execution_count": 42,
   "metadata": {},
   "outputs": [
    {
     "name": "stdout",
     "output_type": "stream",
     "text": [
      "적금\n",
      "['복리']\n"
     ]
    }
   ],
   "source": [
    "print(category)\n",
    "print(conditions)"
   ]
  },
  {
   "cell_type": "code",
   "execution_count": 44,
   "metadata": {},
   "outputs": [
    {
     "name": "stdout",
     "output_type": "stream",
     "text": [
      "    ino installment_category installment_name installment_bank  \\\n",
      "0     1                복리/단리          퍼스트가계적금      한국스탠다드차타드은행   \n",
      "1     2                   복리             행복적금             신한은행   \n",
      "2     4                   복리            꿈나무적금             기업은행   \n",
      "3     6                   복리             미래적금             농협은행   \n",
      "4     8                   복리            행복한적금             전북은행   \n",
      "5    10                   복리             정성적금             제주은행   \n",
      "6    12                   복리             튼튼적금           상호저축은행   \n",
      "7    14                   복리             열정적금               신협   \n",
      "8    16                   복리             희망적금             대구은행   \n",
      "9    18                   복리            스마일적금             서민금융   \n",
      "10   20                   복리           열정가득적금           상호저축은행   \n",
      "11   22                   복리            퍼스트적금             농협은행   \n",
      "12   24                   복리           미래가득적금             경남은행   \n",
      "13   26                   복리            희망찬적금             전북은행   \n",
      "14   28                   복리           꿈을위한적금               신협   \n",
      "15   30                   복리           정성가득적금             농협은행   \n",
      "\n",
      "   installment_max_rate installment_normal_rate installment_join  \\\n",
      "0                  4.75                    2.85                1   \n",
      "1                  4.50                    2.70                1   \n",
      "2                  4.20                    3.00                1   \n",
      "3                  4.00                    2.90                1   \n",
      "4                  4.10                    2.85                1   \n",
      "5                  4.30                    2.95                1   \n",
      "6                  4.40                    3.05                1   \n",
      "7                  4.25                    2.90                1   \n",
      "8                  4.50                    3.00                1   \n",
      "9                  4.35                    2.85                1   \n",
      "10                 4.55                    3.10                1   \n",
      "11                 4.45                    2.90                1   \n",
      "12                 4.50                    2.95                1   \n",
      "13                 4.20                    3.00                1   \n",
      "14                 4.60                    3.10                1   \n",
      "15                 4.35                    2.90                1   \n",
      "\n",
      "   installment_stream installment_amount installment_way installment_target  \n",
      "0                  36           10000000    영업점,인터넷,스마트폰       개인(개인사업자 포함)  \n",
      "1                  24            5000000         영업점,인터넷                 개인  \n",
      "2                  36           20000000        인터넷,스마트폰       개인(개인사업자 포함)  \n",
      "3                  12           15000000             인터넷                 개인  \n",
      "4                  24            5000000         영업점,인터넷                 개인  \n",
      "5                  36           20000000             영업점                 개인  \n",
      "6                  12            5000000         영업점,인터넷                 개인  \n",
      "7                  24           10000000             영업점                 개인  \n",
      "8                  36           50000000        인터넷,스마트폰                 개인  \n",
      "9                  12           30000000             인터넷                 개인  \n",
      "10                 24            5000000         영업점,인터넷                 개인  \n",
      "11                 36           15000000            스마트폰                 개인  \n",
      "12                 12           10000000             인터넷                 개인  \n",
      "13                 24           30000000             영업점                 개인  \n",
      "14                 36           10000000             인터넷                 개인  \n",
      "15                 12            5000000             인터넷                 개인  \n"
     ]
    }
   ],
   "source": [
    "import pandas as pd\n",
    "\n",
    "\n",
    "# relevant_data를 DataFrame으로 변환\n",
    "df_relevant_data = pd.DataFrame(relevant_data)\n",
    "\n",
    "# DataFrame 출력\n",
    "print(df_relevant_data)"
   ]
  },
  {
   "cell_type": "markdown",
   "metadata": {},
   "source": [
    "## 예시 4 (펀드)"
   ]
  },
  {
   "cell_type": "code",
   "execution_count": 47,
   "metadata": {},
   "outputs": [
    {
     "name": "stdout",
     "output_type": "stream",
     "text": [
      "[{'fno': 1, 'fund_category': '수익률', 'fund_name': '삼성누버거버먼미국리츠부동산자투자신탁H[REITs-재간접형]_Ce', 'fund_earning_ratio': 17.58, 'fund_standard': 1158.26, 'fund_change_rate': -1.09, 'fund_scale': 258.68, 'fund_company': '삼성자산운용', 'fund_lisk': '높은위험', 'fund_type': '글로벌리츠재간접', 'fund_charge': '수수료 없음', 'fund_regdate': '2020/02/05'}, {'fno': 2, 'fund_category': '수익률', 'fund_name': 'NH-Amundi코리아2배인버스레버리지증권투자신탁[주식-파생재간접형]ClassCe', 'fund_earning_ratio': 15.57, 'fund_standard': 224.09, 'fund_change_rate': -11.57, 'fund_scale': 1531.36, 'fund_company': 'NH-Amundi자산운용', 'fund_lisk': '매우높은위험', 'fund_type': '베어마켓', 'fund_charge': '수수료 없음', 'fund_regdate': '2016/11/03'}, {'fno': 3, 'fund_category': '수익률', 'fund_name': 'NH-Amundi인도네시아포커스증권투자신탁[주식]ClassCe', 'fund_earning_ratio': 12.62, 'fund_standard': 960.05, 'fund_change_rate': 0.51, 'fund_scale': 218.99, 'fund_company': 'NH-Amundi자산운용', 'fund_lisk': '다소높은위험', 'fund_type': '기타국가주식', 'fund_charge': '수수료 없음', 'fund_regdate': '2008/01/11'}, {'fno': 4, 'fund_category': '수익률', 'fund_name': '하나글로벌리츠부동산자투자신탁[재간접형]ClassC-E', 'fund_earning_ratio': 11.94, 'fund_standard': 1107.22, 'fund_change_rate': -3.87, 'fund_scale': 631.15, 'fund_company': '하나자산운용', 'fund_lisk': '높은위험', 'fund_type': '글로벌리츠재간접', 'fund_charge': '수수료 없음', 'fund_regdate': '2016/09/02'}, {'fno': 5, 'fund_category': '수익률', 'fund_name': '하나글로벌인프라증권자투자신탁[주식]ClassC-E', 'fund_earning_ratio': 10.7, 'fund_standard': 1598.34, 'fund_change_rate': -4.98, 'fund_scale': 594.73, 'fund_company': '하나자산운용', 'fund_lisk': '다소높은위험', 'fund_type': '공공서비스섹터', 'fund_charge': '수수료 없음', 'fund_regdate': '2015/03/12'}, {'fno': 6, 'fund_category': '수익률', 'fund_name': '삼성아세안증권자투자신탁 2[주식](Ce)', 'fund_earning_ratio': 9.78, 'fund_standard': 1652.87, 'fund_change_rate': -5.01, 'fund_scale': 812.15, 'fund_company': '삼성자산운용', 'fund_lisk': '다소높은위험', 'fund_type': '동남아주식', 'fund_charge': '수수료 없음', 'fund_regdate': '2008/03/11'}, {'fno': 7, 'fund_category': '수익률', 'fund_name': 'KB글로벌코어리츠부동산자투자신탁(재간접형)(H)C-E', 'fund_earning_ratio': 9.46, 'fund_standard': 1020.11, 'fund_change_rate': -2.53, 'fund_scale': 35.52, 'fund_company': 'KB자산운용', 'fund_lisk': '높은위험', 'fund_type': '글로벌리츠재간접', 'fund_charge': '수수료 없음', 'fund_regdate': '2019/09/20'}, {'fno': 8, 'fund_category': '판매액', 'fund_name': 'KB머니마켓액티브증권투자신탁(채권)C-E', 'fund_earning_ratio': 0.93, 'fund_standard': 1014.15, 'fund_change_rate': 0.09, 'fund_scale': 8595.54, 'fund_company': 'KB자산운용', 'fund_lisk': '낮은위험', 'fund_type': '초단기채권', 'fund_charge': '수수료 없음', 'fund_regdate': '2023/07/14'}, {'fno': 9, 'fund_category': '판매액', 'fund_name': '한화단기국공채증권자투자신탁(채권)종류C-e', 'fund_earning_ratio': 0.94, 'fund_standard': 1064.29, 'fund_change_rate': 0.03, 'fund_scale': 3994.52, 'fund_company': '한화자산운용', 'fund_lisk': '매우낮은위험', 'fund_type': '초단기채권', 'fund_charge': '수수료 없음', 'fund_regdate': '2016/08/31'}, {'fno': 10, 'fund_category': '판매액', 'fund_name': '한국투자크레딧포커스ESG증권자투자신탁 1(채권)(C-e)', 'fund_earning_ratio': 1.76, 'fund_standard': 1075.06, 'fund_change_rate': -0.41, 'fund_scale': 14252.24, 'fund_company': '한국투자신탁운용', 'fund_lisk': '낮은위험', 'fund_type': '일반채권', 'fund_charge': '수수료 없음', 'fund_regdate': '2008/11/03'}, {'fno': 11, 'fund_category': '판매액', 'fund_name': '코레이트초단기금리혼합자산투자신탁_Ce', 'fund_earning_ratio': 0.96, 'fund_standard': 1033.88, 'fund_change_rate': 0.1, 'fund_scale': 10648.41, 'fund_company': '코레이트자산운용', 'fund_lisk': '낮은위험', 'fund_type': '초단기채권', 'fund_charge': '수수료 없음', 'fund_regdate': '2023/01/04'}, {'fno': 12, 'fund_category': '판매액', 'fund_name': '한화2.2배레버리지인덱스증권투자신탁(주식-파생재간접형)종류C-e', 'fund_earning_ratio': -21.43, 'fund_standard': 882.13, 'fund_change_rate': 43.87, 'fund_scale': 744.88, 'fund_company': '한화자산운용', 'fund_lisk': '매우높은위험', 'fund_type': '기타인덱스', 'fund_charge': '수수료 없음', 'fund_regdate': '2010/12/29'}, {'fno': 14, 'fund_category': '판매액', 'fund_name': 'KB스타단기국공채증권자투자신탁(채권)C-E클래스', 'fund_earning_ratio': 1.06, 'fund_standard': 1009.05, 'fund_change_rate': -0.13, 'fund_scale': 680.54, 'fund_company': 'KB자산운용', 'fund_lisk': '매우낮은위험', 'fund_type': '일반채권', 'fund_charge': '수수료 없음', 'fund_regdate': '2016/04/18'}, {'fno': 16, 'fund_category': '적립액', 'fund_name': '한국투자글로벌전기차&배터리증권투자신탁(주식)(A-e)', 'fund_earning_ratio': -8.43, 'fund_standard': 1107.77, 'fund_change_rate': 30.01, 'fund_scale': 10870.87, 'fund_company': '한국투자신탁운용', 'fund_lisk': '높은위험', 'fund_type': '정보기술섹터', 'fund_charge': '투자금액의 0.50%', 'fund_regdate': ' 2017/10/31'}, {'fno': 20, 'fund_category': '적립액', 'fund_name': 'KB글로벌메타버스경제증권자투자신탁(주식)(UH)A-E', 'fund_earning_ratio': -5.8, 'fund_standard': 1245.68, 'fund_change_rate': 43.51, 'fund_scale': 912.6, 'fund_company': 'KB자산운용', 'fund_lisk': '매우높은위험', 'fund_type': '글로벌주식', 'fund_charge': '투자금액의 0.50%', 'fund_regdate': '2021/06/14'}, {'fno': 21, 'fund_category': '적립액', 'fund_name': '미래에셋코어테크증권자투자신탁(주식)종류A-e', 'fund_earning_ratio': -28.19, 'fund_standard': 1434.36, 'fund_change_rate': 63.9, 'fund_scale': 3475.19, 'fund_company': '미래에셋자산운용', 'fund_lisk': '높은위험', 'fund_type': '일반주식', 'fund_charge': '투자금액의 0.50%', 'fund_regdate': '2019/10/23'}]\n"
     ]
    }
   ],
   "source": [
    "# 사용자 쿼리 예시\n",
    "query = \"2000원으로 할 수 있는 펀드는 어떤게 있어?\"\n",
    "\n",
    "# 카테고리와 세부 조건을 추출\n",
    "extracted_data = extract_categories(query)\n",
    "category = extracted_data['category']\n",
    "conditions = extracted_data['conditions']\n",
    "\n",
    "# 카테고리와 조건에 맞는 데이터 추출\n",
    "relevant_data = fetch_data_by_category_and_conditions(category, conditions)\n",
    "print(relevant_data)"
   ]
  },
  {
   "cell_type": "code",
   "execution_count": 48,
   "metadata": {},
   "outputs": [
    {
     "name": "stdout",
     "output_type": "stream",
     "text": [
      "펀드\n",
      "['2000원']\n"
     ]
    }
   ],
   "source": [
    "print(category)\n",
    "print(conditions)"
   ]
  },
  {
   "cell_type": "code",
   "execution_count": 49,
   "metadata": {},
   "outputs": [
    {
     "name": "stdout",
     "output_type": "stream",
     "text": [
      "    fno fund_category                                      fund_name  \\\n",
      "0     1           수익률            삼성누버거버먼미국리츠부동산자투자신탁H[REITs-재간접형]_Ce   \n",
      "1     2           수익률  NH-Amundi코리아2배인버스레버리지증권투자신탁[주식-파생재간접형]ClassCe   \n",
      "2     3           수익률             NH-Amundi인도네시아포커스증권투자신탁[주식]ClassCe   \n",
      "3     4           수익률                  하나글로벌리츠부동산자투자신탁[재간접형]ClassC-E   \n",
      "4     5           수익률                    하나글로벌인프라증권자투자신탁[주식]ClassC-E   \n",
      "5     6           수익률                         삼성아세안증권자투자신탁 2[주식](Ce)   \n",
      "6     7           수익률                  KB글로벌코어리츠부동산자투자신탁(재간접형)(H)C-E   \n",
      "7     8           판매액                         KB머니마켓액티브증권투자신탁(채권)C-E   \n",
      "8     9           판매액                        한화단기국공채증권자투자신탁(채권)종류C-e   \n",
      "9    10           판매액                한국투자크레딧포커스ESG증권자투자신탁 1(채권)(C-e)   \n",
      "10   11           판매액                           코레이트초단기금리혼합자산투자신탁_Ce   \n",
      "11   12           판매액            한화2.2배레버리지인덱스증권투자신탁(주식-파생재간접형)종류C-e   \n",
      "12   14           판매액                     KB스타단기국공채증권자투자신탁(채권)C-E클래스   \n",
      "13   16           적립액                  한국투자글로벌전기차&배터리증권투자신탁(주식)(A-e)   \n",
      "14   20           적립액                  KB글로벌메타버스경제증권자투자신탁(주식)(UH)A-E   \n",
      "15   21           적립액                       미래에셋코어테크증권자투자신탁(주식)종류A-e   \n",
      "\n",
      "    fund_earning_ratio  fund_standard  fund_change_rate  fund_scale  \\\n",
      "0                17.58        1158.26             -1.09      258.68   \n",
      "1                15.57         224.09            -11.57     1531.36   \n",
      "2                12.62         960.05              0.51      218.99   \n",
      "3                11.94        1107.22             -3.87      631.15   \n",
      "4                10.70        1598.34             -4.98      594.73   \n",
      "5                 9.78        1652.87             -5.01      812.15   \n",
      "6                 9.46        1020.11             -2.53       35.52   \n",
      "7                 0.93        1014.15              0.09     8595.54   \n",
      "8                 0.94        1064.29              0.03     3994.52   \n",
      "9                 1.76        1075.06             -0.41    14252.24   \n",
      "10                0.96        1033.88              0.10    10648.41   \n",
      "11              -21.43         882.13             43.87      744.88   \n",
      "12                1.06        1009.05             -0.13      680.54   \n",
      "13               -8.43        1107.77             30.01    10870.87   \n",
      "14               -5.80        1245.68             43.51      912.60   \n",
      "15              -28.19        1434.36             63.90     3475.19   \n",
      "\n",
      "     fund_company fund_lisk fund_type  fund_charge fund_regdate  \n",
      "0          삼성자산운용      높은위험  글로벌리츠재간접       수수료 없음   2020/02/05  \n",
      "1   NH-Amundi자산운용    매우높은위험      베어마켓       수수료 없음   2016/11/03  \n",
      "2   NH-Amundi자산운용    다소높은위험    기타국가주식       수수료 없음   2008/01/11  \n",
      "3          하나자산운용      높은위험  글로벌리츠재간접       수수료 없음   2016/09/02  \n",
      "4          하나자산운용    다소높은위험   공공서비스섹터       수수료 없음   2015/03/12  \n",
      "5          삼성자산운용    다소높은위험     동남아주식       수수료 없음   2008/03/11  \n",
      "6          KB자산운용      높은위험  글로벌리츠재간접       수수료 없음   2019/09/20  \n",
      "7          KB자산운용      낮은위험     초단기채권       수수료 없음   2023/07/14  \n",
      "8          한화자산운용    매우낮은위험     초단기채권       수수료 없음   2016/08/31  \n",
      "9        한국투자신탁운용      낮은위험      일반채권       수수료 없음   2008/11/03  \n",
      "10       코레이트자산운용      낮은위험     초단기채권       수수료 없음   2023/01/04  \n",
      "11         한화자산운용    매우높은위험     기타인덱스       수수료 없음   2010/12/29  \n",
      "12         KB자산운용    매우낮은위험      일반채권       수수료 없음   2016/04/18  \n",
      "13       한국투자신탁운용      높은위험    정보기술섹터  투자금액의 0.50%   2017/10/31  \n",
      "14         KB자산운용    매우높은위험     글로벌주식  투자금액의 0.50%   2021/06/14  \n",
      "15       미래에셋자산운용      높은위험      일반주식  투자금액의 0.50%   2019/10/23  \n"
     ]
    }
   ],
   "source": [
    "import pandas as pd\n",
    "\n",
    "\n",
    "# relevant_data를 DataFrame으로 변환\n",
    "df_relevant_data = pd.DataFrame(relevant_data)\n",
    "\n",
    "# DataFrame 출력\n",
    "print(df_relevant_data)"
   ]
  },
  {
   "cell_type": "markdown",
   "metadata": {},
   "source": [
    "## 예시 5 (외환)"
   ]
  },
  {
   "cell_type": "code",
   "execution_count": 58,
   "metadata": {
    "scrolled": false
   },
   "outputs": [
    {
     "name": "stdout",
     "output_type": "stream",
     "text": [
      "[{'eno': 1, 'exchange_name': 'CNH', 'exchange_basic_rate': Decimal('187.96'), 'exchange_buy': Decimal('186.08'), 'exchange_sell': Decimal('189.83')}, {'eno': 4, 'exchange_name': 'JPY(100)', 'exchange_basic_rate': Decimal('945.74'), 'exchange_buy': Decimal('936.28'), 'exchange_sell': Decimal('955.19')}]\n"
     ]
    }
   ],
   "source": [
    "# 사용자 쿼리 예시\n",
    "query = \"1000원으로 할 수 있는 환율 재테크는 어떤게 있어?\"\n",
    "\n",
    "# 카테고리와 세부 조건을 추출\n",
    "extracted_data = extract_categories(query)\n",
    "category = extracted_data['category']\n",
    "conditions = extracted_data['conditions']\n",
    "\n",
    "# 카테고리와 조건에 맞는 데이터 추출\n",
    "relevant_data = fetch_data_by_category_and_conditions(category, conditions)\n",
    "print(relevant_data)"
   ]
  },
  {
   "cell_type": "code",
   "execution_count": 59,
   "metadata": {},
   "outputs": [
    {
     "name": "stdout",
     "output_type": "stream",
     "text": [
      "외환\n",
      "['1000원']\n"
     ]
    }
   ],
   "source": [
    "print(category)\n",
    "print(conditions)"
   ]
  },
  {
   "cell_type": "code",
   "execution_count": 60,
   "metadata": {},
   "outputs": [
    {
     "name": "stdout",
     "output_type": "stream",
     "text": [
      "   eno exchange_name exchange_basic_rate exchange_buy exchange_sell\n",
      "0    1           CNH              187.96       186.08        189.83\n",
      "1    4      JPY(100)              945.74       936.28        955.19\n"
     ]
    }
   ],
   "source": [
    "import pandas as pd\n",
    "\n",
    "\n",
    "# relevant_data를 DataFrame으로 변환\n",
    "df_relevant_data = pd.DataFrame(relevant_data)\n",
    "\n",
    "# DataFrame 출력\n",
    "print(df_relevant_data)"
   ]
  },
  {
   "cell_type": "markdown",
   "metadata": {},
   "source": [
    "## 예시 6 (카테고리가 없을경우) "
   ]
  },
  {
   "cell_type": "code",
   "execution_count": 11,
   "metadata": {},
   "outputs": [],
   "source": [
    "# 카테고리와 조건에 맞는 데이터를 데이터베이스에서 추출\n",
    "def fetch_data_by_category_and_conditions(category, conditions):\n",
    "    connection = get_connection()\n",
    "    cursor = connection.cursor(dictionary=True)\n",
    "\n",
    "    if category:  # 카테고리가 주어진 경우\n",
    "        # 카테고리별 테이블과 해당 컬럼 결정\n",
    "        table = \"\"\n",
    "        price_column = \"\"\n",
    "        interest_column = \"\"\n",
    "\n",
    "        if category.lower() == '주식':\n",
    "            table = 'tbl_stock'\n",
    "            price_column = 'stock_price'\n",
    "        elif category.lower() == '펀드':\n",
    "            table = 'tbl_fund'\n",
    "            price_column = 'fund_standard'\n",
    "        elif category.lower() == '예금':\n",
    "            table = 'tbl_deposit'\n",
    "            interest_column = 'deposit_category'\n",
    "        elif category.lower() == '적금':\n",
    "            table = 'tbl_installment'\n",
    "            interest_column = 'installment_category'\n",
    "        elif category.lower() == '외환':\n",
    "            table = 'tbl_exchange'\n",
    "            price_column = 'exchange_buy'\n",
    "\n",
    "        # 조건 기반으로 쿼리 생성\n",
    "        where_clauses = []\n",
    "        params = []\n",
    "\n",
    "        for condition in conditions:\n",
    "            if \"원\" in condition:  # 금액 조건일 때\n",
    "                amount = int(condition.replace(\"원\", \"\").replace(\",\", \"\").strip())\n",
    "                if price_column:\n",
    "                    where_clauses.append(f\"{price_column} <= %s\")\n",
    "                    params.append(amount)\n",
    "            elif \"단리\" in condition or \"복리\" in condition:  # 이자 방식일 때\n",
    "                if interest_column:\n",
    "                    where_clauses.append(f\"{interest_column} LIKE %s\")\n",
    "                    params.append(f\"%{condition}%\")\n",
    "\n",
    "        # 조건이 있을 경우 WHERE 절 추가\n",
    "        query = f\"SELECT * FROM {table}\"\n",
    "        if where_clauses:\n",
    "            query += \" WHERE \" + \" AND \".join(where_clauses)\n",
    "        \n",
    "        cursor.execute(query, tuple(params))\n",
    "        results = cursor.fetchall()\n",
    "\n",
    "    else:  # 카테고리가 없는 경우, 모든 테이블에서 조건 체크\n",
    "        all_results = []\n",
    "        \n",
    "        # 각 테이블에 대해 조건 검색\n",
    "        tables = {\n",
    "            'tbl_stock': 'stock_price',\n",
    "            'tbl_fund': 'fund_standard',\n",
    "            'tbl_deposit': 'deposit_category',\n",
    "            'tbl_installment': 'installment_category',\n",
    "            'tbl_exchange': 'exchange_buy'\n",
    "        }\n",
    "\n",
    "        for table, column in tables.items():\n",
    "            where_clauses = []\n",
    "            params = []\n",
    "            \n",
    "            for condition in conditions:\n",
    "                if \"원\" in condition:  # 금액 조건일 때\n",
    "                    amount = int(condition.replace(\"원\", \"\").replace(\",\", \"\").strip())\n",
    "                    where_clauses.append(f\"{column} <= %s\")\n",
    "                    params.append(amount)\n",
    "                elif \"단리\" in condition or \"복리\" in condition:  # 이자 방식일 때\n",
    "                    where_clauses.append(f\"{column} LIKE %s\")\n",
    "                    params.append(f\"%{condition}%\")\n",
    "                    \n",
    "            # 조건이 있을 경우 WHERE 절 추가\n",
    "            query = f\"SELECT * FROM {table}\"\n",
    "            if where_clauses:\n",
    "                query += \" WHERE \" + \" AND \".join(where_clauses)\n",
    "            \n",
    "            cursor.execute(query, tuple(params))\n",
    "            results = cursor.fetchall()\n",
    "            all_results.extend(results)  # 결과를 모아둡니다.\n",
    "\n",
    "        results = all_results  # 모든 테이블에서 찾은 결과를 설정합니다.\n",
    "\n",
    "    connection.close()\n",
    "    return results\n"
   ]
  },
  {
   "cell_type": "code",
   "execution_count": 15,
   "metadata": {
    "scrolled": false
   },
   "outputs": [
    {
     "name": "stdout",
     "output_type": "stream",
     "text": [
      "[{'sno': 1, 'stock_symbol': '005930', 'stock_name': '삼성전자', 'stock_price': '65200', 'price_change_rate': '-1.66', 'stock_volume': '8175458'}, {'sno': 6, 'stock_symbol': '005935', 'stock_name': '삼성전자우', 'stock_price': '53000', 'price_change_rate': '-0.75', 'stock_volume': '622801'}, {'sno': 9, 'stock_symbol': '105560', 'stock_name': 'KB금융', 'stock_price': '80700', 'price_change_rate': '3.33', 'stock_volume': '587431'}, {'sno': 11, 'stock_symbol': '055550', 'stock_name': '신한지주', 'stock_price': '55400', 'price_change_rate': '2.78', 'stock_volume': '330104'}, {'sno': 17, 'stock_symbol': '032830', 'stock_name': '삼성생명', 'stock_price': '96400', 'price_change_rate': '0.21', 'stock_volume': '49934'}, {'sno': 19, 'stock_symbol': '138040', 'stock_name': '메리츠금융지주', 'stock_price': '92400', 'price_change_rate': '2.33', 'stock_volume': '70403'}, {'sno': 20, 'stock_symbol': '086790', 'stock_name': '하나금융지주', 'stock_price': '60800', 'price_change_rate': '4.29', 'stock_volume': '384681'}, {'sno': 25, 'stock_symbol': '035720', 'stock_name': '카카오', 'stock_price': '35800', 'price_change_rate': '1.27', 'stock_volume': '281308'}, {'sno': 30, 'stock_symbol': '015760', 'stock_name': '한국전력', 'stock_price': '22050', 'price_change_rate': '0.46', 'stock_volume': '352370'}, {'fno': 1, 'fund_category': '수익률', 'fund_name': '삼성누버거버먼미국리츠부동산자투자신탁H[REITs-재간접형]_Ce', 'fund_earning_ratio': 17.58, 'fund_standard': 1158.26, 'fund_change_rate': -1.09, 'fund_scale': 258.68, 'fund_company': '삼성자산운용', 'fund_lisk': '높은위험', 'fund_type': '글로벌리츠재간접', 'fund_charge': '수수료 없음', 'fund_regdate': '2020/02/05'}, {'fno': 2, 'fund_category': '수익률', 'fund_name': 'NH-Amundi코리아2배인버스레버리지증권투자신탁[주식-파생재간접형]ClassCe', 'fund_earning_ratio': 15.57, 'fund_standard': 224.09, 'fund_change_rate': -11.57, 'fund_scale': 1531.36, 'fund_company': 'NH-Amundi자산운용', 'fund_lisk': '매우높은위험', 'fund_type': '베어마켓', 'fund_charge': '수수료 없음', 'fund_regdate': '2016/11/03'}, {'fno': 3, 'fund_category': '수익률', 'fund_name': 'NH-Amundi인도네시아포커스증권투자신탁[주식]ClassCe', 'fund_earning_ratio': 12.62, 'fund_standard': 960.05, 'fund_change_rate': 0.51, 'fund_scale': 218.99, 'fund_company': 'NH-Amundi자산운용', 'fund_lisk': '다소높은위험', 'fund_type': '기타국가주식', 'fund_charge': '수수료 없음', 'fund_regdate': '2008/01/11'}, {'fno': 4, 'fund_category': '수익률', 'fund_name': '하나글로벌리츠부동산자투자신탁[재간접형]ClassC-E', 'fund_earning_ratio': 11.94, 'fund_standard': 1107.22, 'fund_change_rate': -3.87, 'fund_scale': 631.15, 'fund_company': '하나자산운용', 'fund_lisk': '높은위험', 'fund_type': '글로벌리츠재간접', 'fund_charge': '수수료 없음', 'fund_regdate': '2016/09/02'}, {'fno': 5, 'fund_category': '수익률', 'fund_name': '하나글로벌인프라증권자투자신탁[주식]ClassC-E', 'fund_earning_ratio': 10.7, 'fund_standard': 1598.34, 'fund_change_rate': -4.98, 'fund_scale': 594.73, 'fund_company': '하나자산운용', 'fund_lisk': '다소높은위험', 'fund_type': '공공서비스섹터', 'fund_charge': '수수료 없음', 'fund_regdate': '2015/03/12'}, {'fno': 6, 'fund_category': '수익률', 'fund_name': '삼성아세안증권자투자신탁 2[주식](Ce)', 'fund_earning_ratio': 9.78, 'fund_standard': 1652.87, 'fund_change_rate': -5.01, 'fund_scale': 812.15, 'fund_company': '삼성자산운용', 'fund_lisk': '다소높은위험', 'fund_type': '동남아주식', 'fund_charge': '수수료 없음', 'fund_regdate': '2008/03/11'}, {'fno': 7, 'fund_category': '수익률', 'fund_name': 'KB글로벌코어리츠부동산자투자신탁(재간접형)(H)C-E', 'fund_earning_ratio': 9.46, 'fund_standard': 1020.11, 'fund_change_rate': -2.53, 'fund_scale': 35.52, 'fund_company': 'KB자산운용', 'fund_lisk': '높은위험', 'fund_type': '글로벌리츠재간접', 'fund_charge': '수수료 없음', 'fund_regdate': '2019/09/20'}, {'fno': 8, 'fund_category': '판매액', 'fund_name': 'KB머니마켓액티브증권투자신탁(채권)C-E', 'fund_earning_ratio': 0.93, 'fund_standard': 1014.15, 'fund_change_rate': 0.09, 'fund_scale': 8595.54, 'fund_company': 'KB자산운용', 'fund_lisk': '낮은위험', 'fund_type': '초단기채권', 'fund_charge': '수수료 없음', 'fund_regdate': '2023/07/14'}, {'fno': 9, 'fund_category': '판매액', 'fund_name': '한화단기국공채증권자투자신탁(채권)종류C-e', 'fund_earning_ratio': 0.94, 'fund_standard': 1064.29, 'fund_change_rate': 0.03, 'fund_scale': 3994.52, 'fund_company': '한화자산운용', 'fund_lisk': '매우낮은위험', 'fund_type': '초단기채권', 'fund_charge': '수수료 없음', 'fund_regdate': '2016/08/31'}, {'fno': 10, 'fund_category': '판매액', 'fund_name': '한국투자크레딧포커스ESG증권자투자신탁 1(채권)(C-e)', 'fund_earning_ratio': 1.76, 'fund_standard': 1075.06, 'fund_change_rate': -0.41, 'fund_scale': 14252.24, 'fund_company': '한국투자신탁운용', 'fund_lisk': '낮은위험', 'fund_type': '일반채권', 'fund_charge': '수수료 없음', 'fund_regdate': '2008/11/03'}, {'fno': 11, 'fund_category': '판매액', 'fund_name': '코레이트초단기금리혼합자산투자신탁_Ce', 'fund_earning_ratio': 0.96, 'fund_standard': 1033.88, 'fund_change_rate': 0.1, 'fund_scale': 10648.41, 'fund_company': '코레이트자산운용', 'fund_lisk': '낮은위험', 'fund_type': '초단기채권', 'fund_charge': '수수료 없음', 'fund_regdate': '2023/01/04'}, {'fno': 12, 'fund_category': '판매액', 'fund_name': '한화2.2배레버리지인덱스증권투자신탁(주식-파생재간접형)종류C-e', 'fund_earning_ratio': -21.43, 'fund_standard': 882.13, 'fund_change_rate': 43.87, 'fund_scale': 744.88, 'fund_company': '한화자산운용', 'fund_lisk': '매우높은위험', 'fund_type': '기타인덱스', 'fund_charge': '수수료 없음', 'fund_regdate': '2010/12/29'}, {'fno': 13, 'fund_category': '판매액', 'fund_name': '브레인코스닥벤처증권투자신탁(주식혼합)종류AE', 'fund_earning_ratio': -12.98, 'fund_standard': 2760.55, 'fund_change_rate': 50.2, 'fund_scale': 280.6, 'fund_company': '브레인자산운용', 'fund_lisk': '높은위험', 'fund_type': '일반주식혼합', 'fund_charge': '투자금액의 0.50%', 'fund_regdate': '2018/04/05'}, {'fno': 14, 'fund_category': '판매액', 'fund_name': 'KB스타단기국공채증권자투자신탁(채권)C-E클래스', 'fund_earning_ratio': 1.06, 'fund_standard': 1009.05, 'fund_change_rate': -0.13, 'fund_scale': 680.54, 'fund_company': 'KB자산운용', 'fund_lisk': '매우낮은위험', 'fund_type': '일반채권', 'fund_charge': '수수료 없음', 'fund_regdate': '2016/04/18'}, {'fno': 15, 'fund_category': '적립액', 'fund_name': '피델리티글로벌테크놀로지증권자투자신탁(주식-재간접형)종류A-e', 'fund_earning_ratio': -1.29, 'fund_standard': 3639.48, 'fund_change_rate': 2.28, 'fund_scale': 10464.21, 'fund_company': '피델리티자산운용', 'fund_lisk': '높은위험', 'fund_type': '정보기술섹터', 'fund_charge': '투자금액의 0.50%', 'fund_regdate': '2016/11/07'}, {'fno': 16, 'fund_category': '적립액', 'fund_name': '한국투자글로벌전기차&배터리증권투자신탁(주식)(A-e)', 'fund_earning_ratio': -8.43, 'fund_standard': 1107.77, 'fund_change_rate': 30.01, 'fund_scale': 10870.87, 'fund_company': '한국투자신탁운용', 'fund_lisk': '높은위험', 'fund_type': '정보기술섹터', 'fund_charge': '투자금액의 0.50%', 'fund_regdate': ' 2017/10/31'}, {'fno': 17, 'fund_category': '적립액', 'fund_name': 'AB미국그로스증권투자신탁(주식-재간접형)종류형Ae', 'fund_earning_ratio': -3.36, 'fund_standard': 2942.82, 'fund_change_rate': 53.26, 'fund_scale': 6998.31, 'fund_company': 'AB자산운용', 'fund_lisk': '높은위험', 'fund_type': '북미주식', 'fund_charge': '투자금액의 0.50%', 'fund_regdate': '2014/04/14'}, {'fno': 18, 'fund_category': '적립액', 'fund_name': '미래에셋인도중소형포커스증권자투자신탁 1(주식)종류A-e', 'fund_earning_ratio': 5.37, 'fund_standard': 4843.78, 'fund_change_rate': -25.31, 'fund_scale': 1121.97, 'fund_company': '미래에셋자산운용', 'fund_lisk': '높은위험', 'fund_type': '인도주식', 'fund_charge': '투자금액의 0.50%', 'fund_regdate': '2015/09/23'}, {'fno': 19, 'fund_category': '적립액', 'fund_name': '피델리티글로벌테크놀로지증권자투자신탁(주식-재간접형)종류C-e', 'fund_earning_ratio': -1.33, 'fund_standard': 3995.79, 'fund_change_rate': 2.49, 'fund_scale': 10464.21, 'fund_company': '피델리티자산운용', 'fund_lisk': '높은위험', 'fund_type': '정보기술섹터', 'fund_charge': '수수료 없음', 'fund_regdate': '2015/06/17'}, {'fno': 20, 'fund_category': '적립액', 'fund_name': 'KB글로벌메타버스경제증권자투자신탁(주식)(UH)A-E', 'fund_earning_ratio': -5.8, 'fund_standard': 1245.68, 'fund_change_rate': 43.51, 'fund_scale': 912.6, 'fund_company': 'KB자산운용', 'fund_lisk': '매우높은위험', 'fund_type': '글로벌주식', 'fund_charge': '투자금액의 0.50%', 'fund_regdate': '2021/06/14'}, {'fno': 21, 'fund_category': '적립액', 'fund_name': '미래에셋코어테크증권자투자신탁(주식)종류A-e', 'fund_earning_ratio': -28.19, 'fund_standard': 1434.36, 'fund_change_rate': 63.9, 'fund_scale': 3475.19, 'fund_company': '미래에셋자산운용', 'fund_lisk': '높은위험', 'fund_type': '일반주식', 'fund_charge': '투자금액의 0.50%', 'fund_regdate': '2019/10/23'}, {'dno': 1, 'deposit_category': '복리/단리', 'depoist_name': 'e-그린세이브예금', 'deposit_bank': '우한국스탠다드차타드은행', 'deposit_max_rate': '3.37', 'deposit_normal_rate': '3.37', 'deposit_join': '1', 'deposit_stream': '3', 'deposit_amount': '1000000000', 'deposit_way': '인터넷,스마트폰', 'deposit_target': '개인(개인사업자 포함)', 'deposit_link': '직접입력'}, {'dno': 2, 'deposit_category': '단리', 'depoist_name': '스마트정기예금', 'deposit_bank': '신한은행', 'deposit_max_rate': '2.95', 'deposit_normal_rate': '2.95', 'deposit_join': '2', 'deposit_stream': '4', 'deposit_amount': '500000000', 'deposit_way': '인터넷', 'deposit_target': '개인', 'deposit_link': '자동입력'}, {'dno': 3, 'deposit_category': '복리', 'depoist_name': '프리미엄예금', 'deposit_bank': '국민은행', 'deposit_max_rate': '3.50', 'deposit_normal_rate': '3.50', 'deposit_join': '1', 'deposit_stream': '6', 'deposit_amount': '2000000000', 'deposit_way': '스마트폰', 'deposit_target': '개인(개인사업자 포함)', 'deposit_link': '직접입력'}, {'dno': 4, 'deposit_category': '단리', 'depoist_name': '특별정기예금', 'deposit_bank': '우리은행', 'deposit_max_rate': '2.80', 'deposit_normal_rate': '2.80', 'deposit_join': '3', 'deposit_stream': '5', 'deposit_amount': '1500000000', 'deposit_way': '인터넷', 'deposit_target': '개인', 'deposit_link': '자동입력'}, {'dno': 5, 'deposit_category': '복리/단리', 'depoist_name': '온라인정기예금', 'deposit_bank': '하나은행', 'deposit_max_rate': '3.25', 'deposit_normal_rate': '3.25', 'deposit_join': '2', 'deposit_stream': '4', 'deposit_amount': '300000000', 'deposit_way': '스마트폰', 'deposit_target': '개인', 'deposit_link': '직접입력'}, {'dno': 6, 'deposit_category': '복리', 'depoist_name': '우대정기예금', 'deposit_bank': '농협은행', 'deposit_max_rate': '3.15', 'deposit_normal_rate': '3.15', 'deposit_join': '1', 'deposit_stream': '5', 'deposit_amount': '800000000', 'deposit_way': '인터넷,스마트폰', 'deposit_target': '개인(개인사업자 포함)', 'deposit_link': '자동입력'}, {'dno': 7, 'deposit_category': '단리', 'depoist_name': '정기예금', 'deposit_bank': '기업은행', 'deposit_max_rate': '2.70', 'deposit_normal_rate': '2.70', 'deposit_join': '3', 'deposit_stream': '6', 'deposit_amount': '100000000', 'deposit_way': '인터넷', 'deposit_target': '개인', 'deposit_link': '직접입력'}, {'dno': 8, 'deposit_category': '복리', 'depoist_name': '투자예금', 'deposit_bank': 'SC제일은행', 'deposit_max_rate': '3.45', 'deposit_normal_rate': '3.45', 'deposit_join': '2', 'deposit_stream': '4', 'deposit_amount': '1200000000', 'deposit_way': '스마트폰', 'deposit_target': '개인(개인사업자 포함)', 'deposit_link': '자동입력'}, {'dno': 9, 'deposit_category': '단리', 'depoist_name': '정기적금', 'deposit_bank': '대구은행', 'deposit_max_rate': '2.85', 'deposit_normal_rate': '2.85', 'deposit_join': '3', 'deposit_stream': '5', 'deposit_amount': '500000000', 'deposit_way': '인터넷', 'deposit_target': '개인', 'deposit_link': '직접입력'}, {'dno': 10, 'deposit_category': '복리/단리', 'depoist_name': 'e-정기예금', 'deposit_bank': '광주은행', 'deposit_max_rate': '3.20', 'deposit_normal_rate': '3.20', 'deposit_join': '1', 'deposit_stream': '6', 'deposit_amount': '700000000', 'deposit_way': '스마트폰', 'deposit_target': '개인(개인사업자 포함)', 'deposit_link': '자동입력'}, {'dno': 11, 'deposit_category': '단리', 'depoist_name': '하이정기예금', 'deposit_bank': '전북은행', 'deposit_max_rate': '2.75', 'deposit_normal_rate': '2.75', 'deposit_join': '2', 'deposit_stream': '4', 'deposit_amount': '400000000', 'deposit_way': '인터넷', 'deposit_target': '개인', 'deposit_link': '직접입력'}, {'dno': 12, 'deposit_category': '복리', 'depoist_name': '슈퍼정기예금', 'deposit_bank': '울산은행', 'deposit_max_rate': '3.30', 'deposit_normal_rate': '3.30', 'deposit_join': '1', 'deposit_stream': '5', 'deposit_amount': '600000000', 'deposit_way': '스마트폰', 'deposit_target': '개인(개인사업자 포함)', 'deposit_link': '자동입력'}, {'dno': 13, 'deposit_category': '단리', 'depoist_name': '스마트정기예금', 'deposit_bank': '강원은행', 'deposit_max_rate': '2.90', 'deposit_normal_rate': '2.90', 'deposit_join': '2', 'deposit_stream': '6', 'deposit_amount': '300000000', 'deposit_way': '인터넷', 'deposit_target': '개인', 'deposit_link': '직접입력'}, {'dno': 14, 'deposit_category': '복리', 'depoist_name': '연금정기예금', 'deposit_bank': 'KDB산업은행', 'deposit_max_rate': '3.40', 'deposit_normal_rate': '3.40', 'deposit_join': '1', 'deposit_stream': '4', 'deposit_amount': '1500000000', 'deposit_way': '스마트폰', 'deposit_target': '개인(개인사업자 포함)', 'deposit_link': '자동입력'}, {'dno': 15, 'deposit_category': '단리', 'depoist_name': '단기정기예금', 'deposit_bank': 'BNK부산은행', 'deposit_max_rate': '2.65', 'deposit_normal_rate': '2.65', 'deposit_join': '3', 'deposit_stream': '5', 'deposit_amount': '200000000', 'deposit_way': '인터넷', 'deposit_target': '개인', 'deposit_link': '직접입력'}, {'dno': 16, 'deposit_category': '복리/단리', 'depoist_name': 'e-뱅킹예금', 'deposit_bank': '하나금융그룹', 'deposit_max_rate': '3.35', 'deposit_normal_rate': '3.35', 'deposit_join': '2', 'deposit_stream': '6', 'deposit_amount': '500000000', 'deposit_way': '스마트폰', 'deposit_target': '개인(개인사업자 포함)', 'deposit_link': '자동입력'}, {'dno': 17, 'deposit_category': '단리', 'depoist_name': '정기예금', 'deposit_bank': '경남은행', 'deposit_max_rate': '2.80', 'deposit_normal_rate': '2.80', 'deposit_join': '1', 'deposit_stream': '5', 'deposit_amount': '100000000', 'deposit_way': '인터넷', 'deposit_target': '개인', 'deposit_link': '직접입력'}, {'dno': 18, 'deposit_category': '복리', 'depoist_name': '정기적금', 'deposit_bank': '신협', 'deposit_max_rate': '3.25', 'deposit_normal_rate': '3.25', 'deposit_join': '1', 'deposit_stream': '6', 'deposit_amount': '400000000', 'deposit_way': '스마트폰', 'deposit_target': '개인(개인사업자 포함)', 'deposit_link': '자동입력'}, {'dno': 19, 'deposit_category': '단리', 'depoist_name': '우대정기예금', 'deposit_bank': '새마을금고', 'deposit_max_rate': '2.75', 'deposit_normal_rate': '2.75', 'deposit_join': '3', 'deposit_stream': '4', 'deposit_amount': '250000000', 'deposit_way': '인터넷', 'deposit_target': '개인', 'deposit_link': '직접입력'}, {'dno': 20, 'deposit_category': '복리/단리', 'depoist_name': 'e-정기적금', 'deposit_bank': '신협', 'deposit_max_rate': '3.45', 'deposit_normal_rate': '3.45', 'deposit_join': '2', 'deposit_stream': '6', 'deposit_amount': '600000000', 'deposit_way': '스마트폰', 'deposit_target': '개인(개인사업자 포함)', 'deposit_link': '자동입력'}, {'dno': 21, 'deposit_category': '단리', 'depoist_name': '정기예금', 'deposit_bank': '주택금융공사', 'deposit_max_rate': '2.90', 'deposit_normal_rate': '2.90', 'deposit_join': '3', 'deposit_stream': '5', 'deposit_amount': '350000000', 'deposit_way': '인터넷', 'deposit_target': '개인', 'deposit_link': '직접입력'}, {'dno': 22, 'deposit_category': '복리', 'depoist_name': '프리미엄정기예금', 'deposit_bank': '국민은행', 'deposit_max_rate': '3.55', 'deposit_normal_rate': '3.55', 'deposit_join': '1', 'deposit_stream': '4', 'deposit_amount': '800000000', 'deposit_way': '스마트폰', 'deposit_target': '개인(개인사업자 포함)', 'deposit_link': '자동입력'}, {'dno': 23, 'deposit_category': '단리', 'depoist_name': '정기적금', 'deposit_bank': '우리은행', 'deposit_max_rate': '2.85', 'deposit_normal_rate': '2.85', 'deposit_join': '2', 'deposit_stream': '6', 'deposit_amount': '500000000', 'deposit_way': '인터넷', 'deposit_target': '개인', 'deposit_link': '직접입력'}, {'dno': 24, 'deposit_category': '복리/단리', 'depoist_name': '인터넷정기예금', 'deposit_bank': '하나은행', 'deposit_max_rate': '3.30', 'deposit_normal_rate': '3.30', 'deposit_join': '1', 'deposit_stream': '5', 'deposit_amount': '300000000', 'deposit_way': '스마트폰', 'deposit_target': '개인(개인사업자 포함)', 'deposit_link': '자동입력'}, {'dno': 25, 'deposit_category': '단리', 'depoist_name': '정기예금', 'deposit_bank': '농협은행', 'deposit_max_rate': '2.70', 'deposit_normal_rate': '2.70', 'deposit_join': '3', 'deposit_stream': '6', 'deposit_amount': '700000000', 'deposit_way': '인터넷', 'deposit_target': '개인', 'deposit_link': '직접입력'}, {'dno': 26, 'deposit_category': '복리', 'depoist_name': '정기예금', 'deposit_bank': '기업은행', 'deposit_max_rate': '3.25', 'deposit_normal_rate': '3.25', 'deposit_join': '1', 'deposit_stream': '4', 'deposit_amount': '400000000', 'deposit_way': '스마트폰', 'deposit_target': '개인(개인사업자 포함)', 'deposit_link': '자동입력'}, {'dno': 27, 'deposit_category': '단리', 'depoist_name': '정기적금', 'deposit_bank': 'SC제일은행', 'deposit_max_rate': '2.75', 'deposit_normal_rate': '2.75', 'deposit_join': '3', 'deposit_stream': '5', 'deposit_amount': '600000000', 'deposit_way': '인터넷', 'deposit_target': '개인', 'deposit_link': '직접입력'}, {'dno': 28, 'deposit_category': '복리/단리', 'depoist_name': 'e-프리미엄예금', 'deposit_bank': '대구은행', 'deposit_max_rate': '3.20', 'deposit_normal_rate': '3.20', 'deposit_join': '2', 'deposit_stream': '4', 'deposit_amount': '300000000', 'deposit_way': '스마트폰', 'deposit_target': '개인(개인사업자 포함)', 'deposit_link': '자동입력'}, {'dno': 29, 'deposit_category': '단리', 'depoist_name': '정기예금', 'deposit_bank': '광주은행', 'deposit_max_rate': '2.85', 'deposit_normal_rate': '2.85', 'deposit_join': '1', 'deposit_stream': '6', 'deposit_amount': '500000000', 'deposit_way': '인터넷', 'deposit_target': '개인', 'deposit_link': '직접입력'}, {'dno': 30, 'deposit_category': '복리', 'depoist_name': '정기적금', 'deposit_bank': '전북은행', 'deposit_max_rate': '3.35', 'deposit_normal_rate': '3.35', 'deposit_join': '2', 'deposit_stream': '5', 'deposit_amount': '200000000', 'deposit_way': '스마트폰', 'deposit_target': '개인(개인사업자 포함)', 'deposit_link': '자동입력'}, {'ino': 1, 'installment_category': '복리/단리', 'installment_name': '퍼스트가계적금', 'installment_bank': '한국스탠다드차타드은행', 'installment_max_rate': '4.75', 'installment_normal_rate': '2.85', 'installment_join': '1', 'installment_stream': '36', 'installment_amount': '10000000', 'installment_way': '영업점,인터넷,스마트폰', 'installment_target': '개인(개인사업자 포함)'}, {'ino': 2, 'installment_category': '복리', 'installment_name': '행복적금', 'installment_bank': '신한은행', 'installment_max_rate': '4.50', 'installment_normal_rate': '2.70', 'installment_join': '1', 'installment_stream': '24', 'installment_amount': '5000000', 'installment_way': '영업점,인터넷', 'installment_target': '개인'}, {'ino': 3, 'installment_category': '단리', 'installment_name': '안심적금', 'installment_bank': '우리은행', 'installment_max_rate': '3.90', 'installment_normal_rate': '2.50', 'installment_join': '1', 'installment_stream': '12', 'installment_amount': '3000000', 'installment_way': '영업점,스마트폰', 'installment_target': '개인'}, {'ino': 4, 'installment_category': '복리', 'installment_name': '꿈나무적금', 'installment_bank': '기업은행', 'installment_max_rate': '4.20', 'installment_normal_rate': '3.00', 'installment_join': '1', 'installment_stream': '36', 'installment_amount': '20000000', 'installment_way': '인터넷,스마트폰', 'installment_target': '개인(개인사업자 포함)'}, {'ino': 5, 'installment_category': '단리', 'installment_name': '정기적금', 'installment_bank': '하나은행', 'installment_max_rate': '3.80', 'installment_normal_rate': '2.60', 'installment_join': '1', 'installment_stream': '24', 'installment_amount': '10000000', 'installment_way': '영업점', 'installment_target': '개인'}, {'ino': 6, 'installment_category': '복리', 'installment_name': '미래적금', 'installment_bank': '농협은행', 'installment_max_rate': '4.00', 'installment_normal_rate': '2.90', 'installment_join': '1', 'installment_stream': '12', 'installment_amount': '15000000', 'installment_way': '인터넷', 'installment_target': '개인'}, {'ino': 7, 'installment_category': '단리', 'installment_name': '안전적금', 'installment_bank': '광주은행', 'installment_max_rate': '3.70', 'installment_normal_rate': '2.80', 'installment_join': '1', 'installment_stream': '36', 'installment_amount': '25000000', 'installment_way': '스마트폰', 'installment_target': '개인'}, {'ino': 8, 'installment_category': '복리', 'installment_name': '행복한적금', 'installment_bank': '전북은행', 'installment_max_rate': '4.10', 'installment_normal_rate': '2.85', 'installment_join': '1', 'installment_stream': '24', 'installment_amount': '5000000', 'installment_way': '영업점,인터넷', 'installment_target': '개인'}, {'ino': 9, 'installment_category': '단리', 'installment_name': '자유적금', 'installment_bank': '경남은행', 'installment_max_rate': '3.60', 'installment_normal_rate': '2.70', 'installment_join': '1', 'installment_stream': '12', 'installment_amount': '10000000', 'installment_way': '스마트폰,인터넷', 'installment_target': '개인'}, {'ino': 10, 'installment_category': '복리', 'installment_name': '정성적금', 'installment_bank': '제주은행', 'installment_max_rate': '4.30', 'installment_normal_rate': '2.95', 'installment_join': '1', 'installment_stream': '36', 'installment_amount': '20000000', 'installment_way': '영업점', 'installment_target': '개인'}, {'ino': 11, 'installment_category': '단리', 'installment_name': '대출적금', 'installment_bank': '부산은행', 'installment_max_rate': '3.50', 'installment_normal_rate': '2.65', 'installment_join': '1', 'installment_stream': '24', 'installment_amount': '30000000', 'installment_way': '스마트폰,인터넷', 'installment_target': '개인'}, {'ino': 12, 'installment_category': '복리', 'installment_name': '튼튼적금', 'installment_bank': '상호저축은행', 'installment_max_rate': '4.40', 'installment_normal_rate': '3.05', 'installment_join': '1', 'installment_stream': '12', 'installment_amount': '5000000', 'installment_way': '영업점,인터넷', 'installment_target': '개인'}, {'ino': 13, 'installment_category': '단리', 'installment_name': '스마트적금', 'installment_bank': '제일은행', 'installment_max_rate': '3.75', 'installment_normal_rate': '2.80', 'installment_join': '1', 'installment_stream': '36', 'installment_amount': '15000000', 'installment_way': '인터넷,스마트폰', 'installment_target': '개인'}, {'ino': 14, 'installment_category': '복리', 'installment_name': '열정적금', 'installment_bank': '신협', 'installment_max_rate': '4.25', 'installment_normal_rate': '2.90', 'installment_join': '1', 'installment_stream': '24', 'installment_amount': '10000000', 'installment_way': '영업점', 'installment_target': '개인'}, {'ino': 15, 'installment_category': '단리', 'installment_name': '정확적금', 'installment_bank': '새마을금고', 'installment_max_rate': '3.85', 'installment_normal_rate': '2.75', 'installment_join': '1', 'installment_stream': '12', 'installment_amount': '20000000', 'installment_way': '스마트폰', 'installment_target': '개인'}, {'ino': 16, 'installment_category': '복리', 'installment_name': '희망적금', 'installment_bank': '대구은행', 'installment_max_rate': '4.50', 'installment_normal_rate': '3.00', 'installment_join': '1', 'installment_stream': '36', 'installment_amount': '50000000', 'installment_way': '인터넷,스마트폰', 'installment_target': '개인'}, {'ino': 17, 'installment_category': '단리', 'installment_name': '안정적금', 'installment_bank': '제주은행', 'installment_max_rate': '3.70', 'installment_normal_rate': '2.60', 'installment_join': '1', 'installment_stream': '24', 'installment_amount': '15000000', 'installment_way': '영업점', 'installment_target': '개인'}, {'ino': 18, 'installment_category': '복리', 'installment_name': '스마일적금', 'installment_bank': '서민금융', 'installment_max_rate': '4.35', 'installment_normal_rate': '2.85', 'installment_join': '1', 'installment_stream': '12', 'installment_amount': '30000000', 'installment_way': '인터넷', 'installment_target': '개인'}, {'ino': 19, 'installment_category': '단리', 'installment_name': '진심적금', 'installment_bank': '신협', 'installment_max_rate': '3.80', 'installment_normal_rate': '2.70', 'installment_join': '1', 'installment_stream': '36', 'installment_amount': '20000000', 'installment_way': '스마트폰', 'installment_target': '개인'}, {'ino': 20, 'installment_category': '복리', 'installment_name': '열정가득적금', 'installment_bank': '상호저축은행', 'installment_max_rate': '4.55', 'installment_normal_rate': '3.10', 'installment_join': '1', 'installment_stream': '24', 'installment_amount': '5000000', 'installment_way': '영업점,인터넷', 'installment_target': '개인'}, {'ino': 21, 'installment_category': '단리', 'installment_name': '신뢰적금', 'installment_bank': '새마을금고', 'installment_max_rate': '3.65', 'installment_normal_rate': '2.75', 'installment_join': '1', 'installment_stream': '12', 'installment_amount': '10000000', 'installment_way': '인터넷,스마트폰', 'installment_target': '개인'}, {'ino': 22, 'installment_category': '복리', 'installment_name': '퍼스트적금', 'installment_bank': '농협은행', 'installment_max_rate': '4.45', 'installment_normal_rate': '2.90', 'installment_join': '1', 'installment_stream': '36', 'installment_amount': '15000000', 'installment_way': '스마트폰', 'installment_target': '개인'}, {'ino': 23, 'installment_category': '단리', 'installment_name': '일반적금', 'installment_bank': '부산은행', 'installment_max_rate': '3.60', 'installment_normal_rate': '2.70', 'installment_join': '1', 'installment_stream': '24', 'installment_amount': '20000000', 'installment_way': '영업점', 'installment_target': '개인'}, {'ino': 24, 'installment_category': '복리', 'installment_name': '미래가득적금', 'installment_bank': '경남은행', 'installment_max_rate': '4.50', 'installment_normal_rate': '2.95', 'installment_join': '1', 'installment_stream': '12', 'installment_amount': '10000000', 'installment_way': '인터넷', 'installment_target': '개인'}, {'ino': 25, 'installment_category': '단리', 'installment_name': '정기적금1', 'installment_bank': '광주은행', 'installment_max_rate': '3.75', 'installment_normal_rate': '2.80', 'installment_join': '1', 'installment_stream': '36', 'installment_amount': '50000000', 'installment_way': '스마트폰,인터넷', 'installment_target': '개인'}, {'ino': 26, 'installment_category': '복리', 'installment_name': '희망찬적금', 'installment_bank': '전북은행', 'installment_max_rate': '4.20', 'installment_normal_rate': '3.00', 'installment_join': '1', 'installment_stream': '24', 'installment_amount': '30000000', 'installment_way': '영업점', 'installment_target': '개인'}, {'ino': 27, 'installment_category': '단리', 'installment_name': '안정만점적금', 'installment_bank': '제주은행', 'installment_max_rate': '3.85', 'installment_normal_rate': '2.65', 'installment_join': '1', 'installment_stream': '12', 'installment_amount': '15000000', 'installment_way': '스마트폰', 'installment_target': '개인'}, {'ino': 28, 'installment_category': '복리', 'installment_name': '꿈을위한적금', 'installment_bank': '신협', 'installment_max_rate': '4.60', 'installment_normal_rate': '3.10', 'installment_join': '1', 'installment_stream': '36', 'installment_amount': '10000000', 'installment_way': '인터넷', 'installment_target': '개인'}, {'ino': 29, 'installment_category': '단리', 'installment_name': '믿음적금', 'installment_bank': '새마을금고', 'installment_max_rate': '3.70', 'installment_normal_rate': '2.75', 'installment_join': '1', 'installment_stream': '24', 'installment_amount': '20000000', 'installment_way': '영업점,스마트폰', 'installment_target': '개인'}, {'ino': 30, 'installment_category': '복리', 'installment_name': '정성가득적금', 'installment_bank': '농협은행', 'installment_max_rate': '4.35', 'installment_normal_rate': '2.90', 'installment_join': '1', 'installment_stream': '12', 'installment_amount': '5000000', 'installment_way': '인터넷', 'installment_target': '개인'}, {'ino': 31, 'installment_category': '단리', 'installment_name': '자유가득적금', 'installment_bank': '부산은행', 'installment_max_rate': '3.60', 'installment_normal_rate': '2.65', 'installment_join': '1', 'installment_stream': '36', 'installment_amount': '30000000', 'installment_way': '스마트폰', 'installment_target': '개인'}, {'eno': 1, 'exchange_name': 'CNH', 'exchange_basic_rate': Decimal('187.96'), 'exchange_buy': Decimal('186.08'), 'exchange_sell': Decimal('189.83')}, {'eno': 2, 'exchange_name': 'EUR', 'exchange_basic_rate': Decimal('1483.54'), 'exchange_buy': Decimal('1468.70'), 'exchange_sell': Decimal('1498.37')}, {'eno': 3, 'exchange_name': 'GBP', 'exchange_basic_rate': Decimal('1758.56'), 'exchange_buy': Decimal('1740.97'), 'exchange_sell': Decimal('1776.14')}, {'eno': 4, 'exchange_name': 'JPY(100)', 'exchange_basic_rate': Decimal('945.74'), 'exchange_buy': Decimal('936.28'), 'exchange_sell': Decimal('955.19')}, {'eno': 5, 'exchange_name': 'USD', 'exchange_basic_rate': Decimal('1339.60'), 'exchange_buy': Decimal('1326.20'), 'exchange_sell': Decimal('1352.99')}]\n"
     ]
    }
   ],
   "source": [
    "# 사용자 쿼리 예시\n",
    "query = \"100000원으로 할 수 있는 건 뭐가있어??\"\n",
    "\n",
    "# 카테고리와 세부 조건을 추출\n",
    "extracted_data = extract_categories(query)\n",
    "category = extracted_data['category']\n",
    "conditions = extracted_data['conditions']\n",
    "\n",
    "# 카테고리와 조건에 맞는 데이터 추출\n",
    "relevant_data = fetch_data_by_category_and_conditions(category, conditions)\n",
    "print(relevant_data)"
   ]
  },
  {
   "cell_type": "code",
   "execution_count": 16,
   "metadata": {
    "scrolled": true
   },
   "outputs": [
    {
     "name": "stdout",
     "output_type": "stream",
     "text": [
      "\n",
      "['100000원']\n"
     ]
    }
   ],
   "source": [
    "print(category)\n",
    "print(conditions)"
   ]
  },
  {
   "cell_type": "code",
   "execution_count": 17,
   "metadata": {},
   "outputs": [
    {
     "name": "stdout",
     "output_type": "stream",
     "text": [
      "     sno stock_symbol stock_name stock_price price_change_rate stock_volume  \\\n",
      "0    1.0       005930       삼성전자       65200             -1.66      8175458   \n",
      "1    6.0       005935      삼성전자우       53000             -0.75       622801   \n",
      "2    9.0       105560       KB금융       80700              3.33       587431   \n",
      "3   11.0       055550       신한지주       55400              2.78       330104   \n",
      "4   17.0       032830       삼성생명       96400              0.21        49934   \n",
      "..   ...          ...        ...         ...               ...          ...   \n",
      "91   NaN          NaN        NaN         NaN               NaN          NaN   \n",
      "92   NaN          NaN        NaN         NaN               NaN          NaN   \n",
      "93   NaN          NaN        NaN         NaN               NaN          NaN   \n",
      "94   NaN          NaN        NaN         NaN               NaN          NaN   \n",
      "95   NaN          NaN        NaN         NaN               NaN          NaN   \n",
      "\n",
      "    fno fund_category fund_name  fund_earning_ratio  ...  installment_join  \\\n",
      "0   NaN           NaN       NaN                 NaN  ...               NaN   \n",
      "1   NaN           NaN       NaN                 NaN  ...               NaN   \n",
      "2   NaN           NaN       NaN                 NaN  ...               NaN   \n",
      "3   NaN           NaN       NaN                 NaN  ...               NaN   \n",
      "4   NaN           NaN       NaN                 NaN  ...               NaN   \n",
      "..  ...           ...       ...                 ...  ...               ...   \n",
      "91  NaN           NaN       NaN                 NaN  ...               NaN   \n",
      "92  NaN           NaN       NaN                 NaN  ...               NaN   \n",
      "93  NaN           NaN       NaN                 NaN  ...               NaN   \n",
      "94  NaN           NaN       NaN                 NaN  ...               NaN   \n",
      "95  NaN           NaN       NaN                 NaN  ...               NaN   \n",
      "\n",
      "    installment_stream  installment_amount installment_way installment_target  \\\n",
      "0                  NaN                 NaN             NaN                NaN   \n",
      "1                  NaN                 NaN             NaN                NaN   \n",
      "2                  NaN                 NaN             NaN                NaN   \n",
      "3                  NaN                 NaN             NaN                NaN   \n",
      "4                  NaN                 NaN             NaN                NaN   \n",
      "..                 ...                 ...             ...                ...   \n",
      "91                 NaN                 NaN             NaN                NaN   \n",
      "92                 NaN                 NaN             NaN                NaN   \n",
      "93                 NaN                 NaN             NaN                NaN   \n",
      "94                 NaN                 NaN             NaN                NaN   \n",
      "95                 NaN                 NaN             NaN                NaN   \n",
      "\n",
      "    eno exchange_name exchange_basic_rate  exchange_buy exchange_sell  \n",
      "0   NaN           NaN                 NaN           NaN           NaN  \n",
      "1   NaN           NaN                 NaN           NaN           NaN  \n",
      "2   NaN           NaN                 NaN           NaN           NaN  \n",
      "3   NaN           NaN                 NaN           NaN           NaN  \n",
      "4   NaN           NaN                 NaN           NaN           NaN  \n",
      "..  ...           ...                 ...           ...           ...  \n",
      "91  1.0           CNH              187.96        186.08        189.83  \n",
      "92  2.0           EUR             1483.54       1468.70       1498.37  \n",
      "93  3.0           GBP             1758.56       1740.97       1776.14  \n",
      "94  4.0      JPY(100)              945.74        936.28        955.19  \n",
      "95  5.0           USD             1339.60       1326.20       1352.99  \n",
      "\n",
      "[96 rows x 46 columns]\n"
     ]
    }
   ],
   "source": [
    "import pandas as pd\n",
    "\n",
    "\n",
    "# relevant_data를 DataFrame으로 변환\n",
    "df_relevant_data = pd.DataFrame(relevant_data)\n",
    "\n",
    "# DataFrame 출력\n",
    "print(df_relevant_data)"
   ]
  }
 ],
 "metadata": {
  "colab": {
   "provenance": []
  },
  "kernelspec": {
   "display_name": "Python 3 (ipykernel)",
   "language": "python",
   "name": "python3"
  },
  "language_info": {
   "codemirror_mode": {
    "name": "ipython",
    "version": 3
   },
   "file_extension": ".py",
   "mimetype": "text/x-python",
   "name": "python",
   "nbconvert_exporter": "python",
   "pygments_lexer": "ipython3",
   "version": "3.9.18"
  }
 },
 "nbformat": 4,
 "nbformat_minor": 1
}
